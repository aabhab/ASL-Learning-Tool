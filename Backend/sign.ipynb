{
 "cells": [
  {
   "cell_type": "code",
   "execution_count": 9,
   "id": "508dd474",
   "metadata": {},
   "outputs": [],
   "source": [
    "import os\n",
    "import cv2\n",
    "import numpy as np\n",
    "import tensorflow as tf\n",
    "from sklearn.model_selection import train_test_split\n",
    "import pyttsx3\n",
    "\n",
    "# Data directory and parameters\n",
    "data_directory = 'asl_alphabet_train'\n",
    "categories = os.listdir(data_directory)\n",
    "num_classes = len(categories)\n",
    "image_size = 64\n",
    "X = []\n",
    "y = []\n",
    "max_images_per_category = 400\n"
   ]
  },
  {
   "cell_type": "code",
   "execution_count": 10,
   "id": "3bb4e4c4",
   "metadata": {},
   "outputs": [],
   "source": [
    "# Load images and labels into arrays\n",
    "for category_id, category in enumerate(categories):\n",
    "    folder_path = os.path.join(data_directory, category)\n",
    "    image_count = 0\n",
    "    for img in os.listdir(folder_path):\n",
    "        if image_count >= max_images_per_category:\n",
    "            break\n",
    "        image_path = os.path.join(folder_path, img)\n",
    "        image = cv2.imread(image_path)\n",
    "        if image is None:\n",
    "            continue  # Skip if image can't be loaded\n",
    "        image = cv2.cvtColor(image, cv2.COLOR_BGR2GRAY)\n",
    "        image = cv2.resize(image, (image_size, image_size))\n",
    "        X.append(image)\n",
    "        y.append(category_id)\n",
    "        image_count += 1\n",
    "\n",
    "X = np.array(X).reshape(-1, image_size, image_size, 1) / 255.0\n",
    "y = np.array(y)\n"
   ]
  },
  {
   "cell_type": "code",
   "execution_count": null,
   "id": "3b27c73c",
   "metadata": {},
   "outputs": [],
   "source": [
    "# Split data\n",
    "X_train, X_test, y_train, y_test = train_test_split(X, y, test_size=0.2, random_state=42)\n",
    "\n",
    "# Model setup\n",
    "model = tf.keras.models.Sequential([\n",
    "    tf.keras.layers.Conv2D(64, (3, 3), activation='relu', input_shape=(image_size, image_size, 1)),\n",
    "    tf.keras.layers.MaxPooling2D(2, 2),\n",
    "    tf.keras.layers.Conv2D(64, (3, 3), activation='relu'),\n",
    "    tf.keras.layers.MaxPooling2D(2, 2),\n",
    "    tf.keras.layers.Flatten(),\n",
    "    tf.keras.layers.Dense(128, activation='relu'),\n",
    "    tf.keras.layers.Dense(num_classes, activation='softmax')\n",
    "])\n",
    "\n",
    "# Compile and train\n",
    "model.compile(optimizer='adam', loss='sparse_categorical_crossentropy', metrics=['accuracy'])\n",
    "model.fit(X_train, y_train, epochs=10, validation_data=(X_test, y_test))\n"
   ]
  },
  {
   "cell_type": "code",
   "execution_count": 12,
   "id": "cde44cd8",
   "metadata": {},
   "outputs": [
    {
     "ename": "",
     "evalue": "",
     "output_type": "error",
     "traceback": [
      "\u001b[1;31mThe Kernel crashed while executing code in the current cell or a previous cell. \n",
      "\u001b[1;31mPlease review the code in the cell(s) to identify a possible cause of the failure. \n",
      "\u001b[1;31mClick <a href='https://aka.ms/vscodeJupyterKernelCrash'>here</a> for more info. \n",
      "\u001b[1;31mView Jupyter <a href='command:jupyter.viewOutput'>log</a> for further details."
     ]
    }
   ],
   "source": [
    "# Function to draw bounding box and label\n",
    "def draw_bbox(frame, x, y, w, h, label):\n",
    "    cv2.rectangle(frame, (x, y), (x + w, y + h), (0, 255, 0), 2)\n",
    "    cv2.putText(frame, label, (x, y - 10), cv2.FONT_HERSHEY_SIMPLEX, 0.9, (0, 255, 0), 2)\n",
    "\n",
    "# Setup video capture and text-to-speech\n",
    "camera = cv2.VideoCapture(0)\n",
    "engine = pyttsx3.init()\n",
    "\n",
    "# Real-time prediction loop\n",
    "while True:\n",
    "    ret, frame = camera.read()\n",
    "    gray_frame = cv2.cvtColor(frame, cv2.COLOR_BGR2GRAY)\n",
    "    roi = gray_frame[100:300, 100:300]\n",
    "    resized_roi = cv2.resize(roi, (image_size, image_size))\n",
    "    normalized_roi = resized_roi.reshape(1, image_size, image_size, 1) / 255.0\n",
    "    prediction = model.predict(normalized_roi)\n",
    "    predicted_label = np.argmax(prediction)\n",
    "    label = categories[predicted_label]\n",
    "\n",
    "    engine.say(label)\n",
    "    engine.runAndWait()\n",
    "\n",
    "    draw_bbox(frame, 100, 100, 200, 200, label)\n",
    "    cv2.imshow('Sign Language Recognition', frame)\n",
    "    if cv2.waitKey(1) & 0xFF == ord('q'):\n",
    "        break\n",
    "\n",
    "camera.release()\n",
    "cv2.destroyAllWindows()\n"
   ]
  },
  {
   "cell_type": "code",
   "execution_count": null,
   "id": "f89abf23",
   "metadata": {},
   "outputs": [],
   "source": []
  },
  {
   "cell_type": "code",
   "execution_count": null,
   "id": "f0081c1c",
   "metadata": {},
   "outputs": [],
   "source": []
  },
  {
   "cell_type": "code",
   "execution_count": null,
   "id": "585fed4a",
   "metadata": {},
   "outputs": [],
   "source": []
  },
  {
   "cell_type": "code",
   "execution_count": null,
   "id": "01701025",
   "metadata": {},
   "outputs": [],
   "source": []
  },
  {
   "cell_type": "code",
   "execution_count": null,
   "id": "999a82ba",
   "metadata": {},
   "outputs": [],
   "source": []
  }
 ],
 "metadata": {
  "kernelspec": {
   "display_name": "Python 3 (ipykernel)",
   "language": "python",
   "name": "python3"
  },
  "language_info": {
   "codemirror_mode": {
    "name": "ipython",
    "version": 3
   },
   "file_extension": ".py",
   "mimetype": "text/x-python",
   "name": "python",
   "nbconvert_exporter": "python",
   "pygments_lexer": "ipython3",
   "version": "3.8.4rc1"
  }
 },
 "nbformat": 4,
 "nbformat_minor": 5
}
